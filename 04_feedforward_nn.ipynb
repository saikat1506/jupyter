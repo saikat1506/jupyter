{
  "nbformat": 4,
  "nbformat_minor": 0,
  "metadata": {
    "kernelspec": {
      "display_name": "Python 3",
      "language": "python",
      "name": "python3"
    },
    "language_info": {
      "codemirror_mode": {
        "name": "ipython",
        "version": 3
      },
      "file_extension": ".py",
      "mimetype": "text/x-python",
      "name": "python",
      "nbconvert_exporter": "python",
      "pygments_lexer": "ipython3",
      "version": "3.7.4"
    },
    "colab": {
      "name": "04-feedforward-nn.ipynb",
      "provenance": [],
      "include_colab_link": true
    }
  },
  "cells": [
    {
      "cell_type": "markdown",
      "metadata": {
        "id": "view-in-github",
        "colab_type": "text"
      },
      "source": [
        "<a href=\"https://colab.research.google.com/github/saikat1506/jupyter/blob/master/04_feedforward_nn.ipynb\" target=\"_parent\"><img src=\"https://colab.research.google.com/assets/colab-badge.svg\" alt=\"Open In Colab\"/></a>"
      ]
    },
    {
      "cell_type": "markdown",
      "metadata": {
        "id": "22B-A_PTBXHZ",
        "colab_type": "text"
      },
      "source": [
        "# Training Deep Neural Networks on a GPU with PyTorch\n",
        "\n",
        "### Part 4 of \"PyTorch: Zero to GANs\"\n",
        "\n",
        "This post is the fourth in a series of tutorials on building deep learning models with PyTorch, an open source neural networks library. Check out the full series:\n",
        "\n",
        "1. [PyTorch Basics: Tensors & Gradients](https://jovian.ml/aakashns/01-pytorch-basics)\n",
        "2. [Linear Regression & Gradient Descent](https://jovian.ml/aakashns/02-linear-regression)\n",
        "3. [Image Classfication using Logistic Regression](https://jovian.ml/aakashns/03-logistic-regression) \n",
        "4. [Training Deep Neural Networks on a GPU](https://jovian.ml/aakashns/04-feedforward-nn)\n",
        "5. Coming soon.. (CNNs, RNNs, GANs etc.)\n",
        "\n",
        "In [the previous tutorial](https://jvn.io/aakashns/a1b40b04f5174a18bd05b17e3dffb0f0), we trained a logistic regression model to identify handwritten digits from the MNIST dataset with an accuracy of around 86%. \n",
        "\n",
        "![](https://cdn-images-1.medium.com/max/1600/1*q2nyeRU8uvjPeKpo_lMXgQ.jpeg)\n",
        "\n",
        "However, we also noticed that it's quite difficult to improve the accuracy beyond 87%, due to the limited power of the model. In this post, we'll try to improve upon it using a *feedforward neural network*. "
      ]
    },
    {
      "cell_type": "markdown",
      "metadata": {
        "id": "9FmPA-IoBXHe",
        "colab_type": "text"
      },
      "source": [
        "## System Setup\n",
        "\n",
        "If you want to follow along and run the code as you read, you can clone this notebook, install the required dependencies using conda, and start Jupyter by running the following commands on the terminal:\n",
        "\n",
        "```\n",
        "pip install jovian --upgrade    # Install the jovian library \n",
        "jovian clone fdaae0bf32cf4917a931ac415a5c31b0  # Download notebook\n",
        "cd 04-feedforward-nn            # Enter the created directory \n",
        "jovian install                  # Install the dependencies\n",
        "conda activate 04-feedfoward-nn # Activate virtual env\n",
        "jupyter notebook                # Start Jupyter\n",
        "```\n",
        "\n",
        "On older versions of conda, you might need to run `source activate 04-feedfoward-nn` to activate the virtual environment. For a more detailed explanation of the above steps, check out the System setup section in [the first notebook](https://jvn.io/aakashns/e5cfe043873f4f3c9287507016747ae5)."
      ]
    },
    {
      "cell_type": "markdown",
      "metadata": {
        "id": "3hq4CM7dBXHm",
        "colab_type": "text"
      },
      "source": [
        "## Preparing the Data\n",
        "\n",
        "The data preparation is identical to the [previous tutorial](https://jvn.io/aakashns/a1b40b04f5174a18bd05b17e3dffb0f0). We begin by importing the required modules & classes."
      ]
    },
    {
      "cell_type": "code",
      "metadata": {
        "id": "LlR4mpGZBXHs",
        "colab_type": "code",
        "colab": {}
      },
      "source": [
        "import torch\n",
        "import numpy as np\n",
        "import torchvision\n",
        "from torchvision.datasets import MNIST\n",
        "from torchvision.transforms import ToTensor\n",
        "from torch.utils.data.sampler import SubsetRandomSampler\n",
        "from torch.utils.data.dataloader import DataLoader"
      ],
      "execution_count": 0,
      "outputs": []
    },
    {
      "cell_type": "markdown",
      "metadata": {
        "id": "S5W60_RlBXH5",
        "colab_type": "text"
      },
      "source": [
        "We download the data and create a PyTorch dataset using the `MNIST` class from `torchvision.datasets`."
      ]
    },
    {
      "cell_type": "code",
      "metadata": {
        "id": "FdgGwErPBXH8",
        "colab_type": "code",
        "colab": {}
      },
      "source": [
        "dataset = MNIST(root='data/', \n",
        "                download=True, \n",
        "                transform=ToTensor())"
      ],
      "execution_count": 0,
      "outputs": []
    },
    {
      "cell_type": "markdown",
      "metadata": {
        "id": "XEuJDYaHBXIE",
        "colab_type": "text"
      },
      "source": [
        "Next, we define and use a function `split_indices` to pick a random 20% fraction of the images for the validation set."
      ]
    },
    {
      "cell_type": "code",
      "metadata": {
        "id": "xSZtV-TgBXIG",
        "colab_type": "code",
        "colab": {}
      },
      "source": [
        "def split_indices(n, val_pct):\n",
        "    # Determine size of validation set\n",
        "    n_val = int(val_pct*n)\n",
        "    # Create random permutation of 0 to n-1\n",
        "    idxs = np.random.permutation(n)\n",
        "    # Pick first n_val indices for validation set\n",
        "    return idxs[n_val:], idxs[:n_val]"
      ],
      "execution_count": 0,
      "outputs": []
    },
    {
      "cell_type": "code",
      "metadata": {
        "scrolled": true,
        "id": "wZVxizYuBXIM",
        "colab_type": "code",
        "colab": {},
        "outputId": "96d1fee7-43e0-44f6-9e9b-e6ffe5944aee"
      },
      "source": [
        "train_indices, val_indices = split_indices(len(dataset), val_pct=0.2)\n",
        "\n",
        "print(len(train_indices), len(val_indices))\n",
        "print('Sample val indices: ', val_indices[:20])"
      ],
      "execution_count": 0,
      "outputs": [
        {
          "output_type": "stream",
          "text": [
            "48000 12000\n",
            "Sample val indices:  [30174 22163 44391 15428 27744 40785 15826 40551 11461  3225 18049 31251\n",
            " 26262 10409 55827 46710 19843 17178  6217 18004]\n"
          ],
          "name": "stdout"
        }
      ]
    },
    {
      "cell_type": "markdown",
      "metadata": {
        "id": "oC0FG_jIBXJM",
        "colab_type": "text"
      },
      "source": [
        "We can now create PyTorch data loaders for each of the subsets using a `SubsetRandomSampler`, which samples elements randomly from a given list of indices, while creating batches of data."
      ]
    },
    {
      "cell_type": "code",
      "metadata": {
        "id": "wfPxDLckBXJP",
        "colab_type": "code",
        "colab": {}
      },
      "source": [
        "batch_size=100\n",
        "\n",
        "# Training sampler and data loader\n",
        "train_sampler = SubsetRandomSampler(train_indices)\n",
        "train_dl = DataLoader(dataset, \n",
        "                      batch_size, \n",
        "                      sampler=train_sampler)\n",
        "\n",
        "# Validation sampler and data loader\n",
        "valid_sampler = SubsetRandomSampler(val_indices)\n",
        "valid_dl = DataLoader(dataset,\n",
        "                    batch_size, \n",
        "                    sampler=valid_sampler)"
      ],
      "execution_count": 0,
      "outputs": []
    },
    {
      "cell_type": "markdown",
      "metadata": {
        "id": "9HgZ4pUwBXMG",
        "colab_type": "text"
      },
      "source": [
        "## Model\n",
        "\n",
        "To improve upon [logistic regression](https://jvn.io/aakashns/a1b40b04f5174a18bd05b17e3dffb0f0), we'll create a neural network with one **hidden layer**. Here's what this means:\n",
        "\n",
        "* Instead of using a single `nn.Linear` object to transform a batch of inputs (pixel intensities) into a batch of outputs (class probabilities), we'll use two `nn.Linear` objects. Each of these is called a layer in the network. \n",
        "\n",
        "* The first layer (also known as the hidden layer) will transform the input matrix of shape `batch_size x 784` into an intermediate output matrix of shape `batch_size x hidden_size`, where `hidden_size` is a preconfigured parameter (e.g. 32 or 64).\n",
        "\n",
        "* The intermediate outputs are then passed into a non-linear *activation function*, which operates on individual elements of the output matrix.\n",
        "\n",
        "* The result of the activation function, which is also of size `batch_size x hidden_size`, is passed into the second layer (also knowns as the output layer), which transforms it into a matrix of size `batch_size x 10`, identical to the output of the logistic regression model.\n",
        "\n",
        "Introducing a hidden layer and an activation function allows the model to learn more complex, multi-layered and non-linear relationships between the inputs and the targets. Here's what it looks like visually:\n",
        "\n",
        "![](https://i.imgur.com/vDOGEkG.png)\n",
        "\n",
        "The activation function we'll use here is called a **Rectified Linear Unit** or **ReLU**, and it has a really simple formula: `relu(x) = max(0,x)` i.e. if an element is negative, we replace it by 0, otherwise we leave it unchanged.\n",
        "\n",
        "To define the model, we extend the `nn.Module` class, just as we did with logistic regression."
      ]
    },
    {
      "cell_type": "code",
      "metadata": {
        "id": "bMs9b4wpBXMP",
        "colab_type": "code",
        "colab": {}
      },
      "source": [
        "import torch.nn.functional as F\n",
        "import torch.nn as nn"
      ],
      "execution_count": 0,
      "outputs": []
    },
    {
      "cell_type": "code",
      "metadata": {
        "id": "wg6wRk0JBXMT",
        "colab_type": "code",
        "colab": {}
      },
      "source": [
        "class MnistModel(nn.Module):\n",
        "    \"\"\"Feedfoward neural network with 1 hidden layer\"\"\"\n",
        "    def __init__(self, in_size, hidden_size, out_size):\n",
        "        super().__init__()\n",
        "        # hidden layer\n",
        "        self.linear1 = nn.Linear(in_size, hidden_size)\n",
        "        # output layer\n",
        "        self.linear2 = nn.Linear(hidden_size, out_size)\n",
        "        \n",
        "    def forward(self, xb):\n",
        "        # Flatten the image tensors\n",
        "        xb = xb.view(xb.size(0), -1)\n",
        "        # Get intermediate outputs using hidden layer\n",
        "        out = self.linear1(xb)\n",
        "        # Apply activation function\n",
        "        out = F.relu(out)\n",
        "        # Get predictions using output layer\n",
        "        out = self.linear2(out)\n",
        "        return out"
      ],
      "execution_count": 0,
      "outputs": []
    },
    {
      "cell_type": "markdown",
      "metadata": {
        "id": "mBm5x4ExBXMX",
        "colab_type": "text"
      },
      "source": [
        "We'll create a model that contains a hidden layer with 32 activations."
      ]
    },
    {
      "cell_type": "code",
      "metadata": {
        "id": "XOmA43c_BXMY",
        "colab_type": "code",
        "colab": {}
      },
      "source": [
        "input_size = 784\n",
        "num_classes = 10\n",
        "\n",
        "model = MnistModel(input_size, hidden_size=32, \n",
        "                   out_size=num_classes)"
      ],
      "execution_count": 0,
      "outputs": []
    },
    {
      "cell_type": "markdown",
      "metadata": {
        "id": "Tp0hm5qUBXMc",
        "colab_type": "text"
      },
      "source": [
        "Let's take a look at the model's parameters. We expect to see one weight and bias matrix for each of the layers."
      ]
    },
    {
      "cell_type": "code",
      "metadata": {
        "id": "562lhABGBXMd",
        "colab_type": "code",
        "colab": {},
        "outputId": "0789d470-2c0b-43d7-b4e8-31c66a0dc188"
      },
      "source": [
        "for t in model.parameters():\n",
        "    print(t.shape)"
      ],
      "execution_count": 0,
      "outputs": [
        {
          "output_type": "stream",
          "text": [
            "torch.Size([32, 784])\n",
            "torch.Size([32])\n",
            "torch.Size([10, 32])\n",
            "torch.Size([10])\n"
          ],
          "name": "stdout"
        }
      ]
    },
    {
      "cell_type": "markdown",
      "metadata": {
        "id": "ac9p3xwJBXMh",
        "colab_type": "text"
      },
      "source": [
        "Let's try and generate some outputs using our model. We'll take the first batch of 100 images from our dataset, and pass them into our model."
      ]
    },
    {
      "cell_type": "code",
      "metadata": {
        "id": "TTRiZgdNBXMj",
        "colab_type": "code",
        "colab": {},
        "outputId": "c79a2248-ce5c-4b6b-f8ee-748ae23fd949"
      },
      "source": [
        "for images, labels in train_dl:\n",
        "    outputs = model(images)\n",
        "    loss = F.cross_entropy(outputs, labels)\n",
        "    print('Loss:', loss.item())\n",
        "    break\n",
        "\n",
        "print('outputs.shape : ', outputs.shape)\n",
        "print('Sample outputs :\\n', outputs[:2].data)"
      ],
      "execution_count": 0,
      "outputs": [
        {
          "output_type": "stream",
          "text": [
            "Loss: 2.3049917221069336\n",
            "outputs.shape :  torch.Size([100, 10])\n",
            "Sample outputs :\n",
            " tensor([[ 0.0215, -0.0903,  0.1315,  0.1236, -0.2150,  0.1171, -0.0123, -0.1214,\n",
            "          0.0389, -0.2448],\n",
            "        [ 0.0895, -0.1498,  0.0545,  0.1419, -0.1353,  0.1166,  0.0214, -0.1326,\n",
            "         -0.0104, -0.1280]])\n"
          ],
          "name": "stdout"
        }
      ]
    },
    {
      "cell_type": "markdown",
      "metadata": {
        "id": "Q1HTkxKVBXMn",
        "colab_type": "text"
      },
      "source": [
        "## Using a GPU\n",
        "\n",
        "As the sizes of our models and datasets increase, we need to use GPUs to train our models within a reasonable amount of time. GPUs contain hundreds of cores that are optimized for performing expensive matrix operations on floating point numbers in a short time, which makes them ideal for training deep neural networks with many layers. You can use GPUs for free on [Kaggle kernels](https://www.kaggle.com/kernels) or [Google Colab](https://colab.research.google.com/), or rent GPU-powered machines on services like [Google Cloud Platform](https://cloud.google.com/gpu/), [Amazon Web Services](https://docs.aws.amazon.com/dlami/latest/devguide/gpu.html) or [Paperspace](https://www.paperspace.com/).\n",
        "\n",
        "We can check if a GPU is available and the required NVIDIA CUDA drivers are installed using `torch.cuda.is_available`."
      ]
    },
    {
      "cell_type": "code",
      "metadata": {
        "id": "X1-SXl2RBXMo",
        "colab_type": "code",
        "colab": {},
        "outputId": "29422767-8874-4628-c188-20df64734e14"
      },
      "source": [
        "torch.cuda.is_available()"
      ],
      "execution_count": 0,
      "outputs": [
        {
          "output_type": "execute_result",
          "data": {
            "text/plain": [
              "False"
            ]
          },
          "metadata": {
            "tags": []
          },
          "execution_count": 11
        }
      ]
    },
    {
      "cell_type": "markdown",
      "metadata": {
        "id": "qaGlCCknBXMs",
        "colab_type": "text"
      },
      "source": [
        "Let's define a helper function to ensure that our code uses the GPU if available, and defaults to using the CPU if it isn't."
      ]
    },
    {
      "cell_type": "code",
      "metadata": {
        "id": "6fpdN5WhBXMu",
        "colab_type": "code",
        "colab": {}
      },
      "source": [
        "def get_default_device():\n",
        "    \"\"\"Pick GPU if available, else CPU\"\"\"\n",
        "    if torch.cuda.is_available():\n",
        "        return torch.device('cuda')\n",
        "    else:\n",
        "        return torch.device('cpu')"
      ],
      "execution_count": 0,
      "outputs": []
    },
    {
      "cell_type": "code",
      "metadata": {
        "id": "nksHomM_BXM0",
        "colab_type": "code",
        "colab": {},
        "outputId": "fcdfa5d1-a5d3-48ab-85e5-797bc133da91"
      },
      "source": [
        "device = get_default_device()\n",
        "device"
      ],
      "execution_count": 0,
      "outputs": [
        {
          "output_type": "execute_result",
          "data": {
            "text/plain": [
              "device(type='cpu')"
            ]
          },
          "metadata": {
            "tags": []
          },
          "execution_count": 13
        }
      ]
    },
    {
      "cell_type": "markdown",
      "metadata": {
        "id": "0vXO562xBXM5",
        "colab_type": "text"
      },
      "source": [
        "Next, let's define a function that can move data and model to a chosen device."
      ]
    },
    {
      "cell_type": "code",
      "metadata": {
        "id": "d2KwmQmfBXM6",
        "colab_type": "code",
        "colab": {}
      },
      "source": [
        "def to_device(data, device):\n",
        "    \"\"\"Move tensor(s) to chosen device\"\"\"\n",
        "    if isinstance(data, (list,tuple)):\n",
        "        return [to_device(x, device) for x in data]\n",
        "    return data.to(device, non_blocking=True)"
      ],
      "execution_count": 0,
      "outputs": []
    },
    {
      "cell_type": "code",
      "metadata": {
        "id": "jrH0RRlcBXM-",
        "colab_type": "code",
        "colab": {},
        "outputId": "d8c976b6-1e98-489b-8d03-a018f6a4e998"
      },
      "source": [
        "for images, labels in train_dl:\n",
        "    print(images.shape)\n",
        "    images = to_device(images, device)\n",
        "    print(images.device)\n",
        "    break"
      ],
      "execution_count": 0,
      "outputs": [
        {
          "output_type": "stream",
          "text": [
            "torch.Size([100, 1, 28, 28])\n",
            "cpu\n"
          ],
          "name": "stdout"
        }
      ]
    },
    {
      "cell_type": "markdown",
      "metadata": {
        "id": "TWE8UDVzBXNC",
        "colab_type": "text"
      },
      "source": [
        "Finally, we define a `DeviceDataLoader` class to wrap our existing data loaders and move data to the selected device, as a batches are accessed. Interestingly, we don't need to extend an existing class to create a PyTorch dataloader. All we need is an `__iter__` method to retrieve batches of data, and an `__len__` method to get the number of batches."
      ]
    },
    {
      "cell_type": "code",
      "metadata": {
        "id": "wS48tiZhBXNE",
        "colab_type": "code",
        "colab": {}
      },
      "source": [
        "class DeviceDataLoader():\n",
        "    \"\"\"Wrap a dataloader to move data to a device\"\"\"\n",
        "    def __init__(self, dl, device):\n",
        "        self.dl = dl\n",
        "        self.device = device\n",
        "        \n",
        "    def __iter__(self):\n",
        "        \"\"\"Yield a batch of data after moving it to device\"\"\"\n",
        "        for b in self.dl: \n",
        "            yield to_device(b, self.device)\n",
        "\n",
        "    def __len__(self):\n",
        "        \"\"\"Number of batches\"\"\"\n",
        "        return len(self.dl)"
      ],
      "execution_count": 0,
      "outputs": []
    },
    {
      "cell_type": "markdown",
      "metadata": {
        "id": "zoa2GVglBXNK",
        "colab_type": "text"
      },
      "source": [
        "We can now wrap our data loaders using `DeviceDataLoader`."
      ]
    },
    {
      "cell_type": "code",
      "metadata": {
        "id": "fDTdYToCBXNO",
        "colab_type": "code",
        "colab": {}
      },
      "source": [
        "train_dl = DeviceDataLoader(train_dl, device)\n",
        "valid_dl = DeviceDataLoader(valid_dl, device)"
      ],
      "execution_count": 0,
      "outputs": []
    },
    {
      "cell_type": "markdown",
      "metadata": {
        "id": "i7PkpbWEBXNW",
        "colab_type": "text"
      },
      "source": [
        "Tensors that have been moved to the GPU's RAM have a `device` property which includes the word `cuda`. Let's verify this by looking at a batch of data from `valid_dl`."
      ]
    },
    {
      "cell_type": "code",
      "metadata": {
        "id": "w_d4wz3jBXNX",
        "colab_type": "code",
        "colab": {},
        "outputId": "2a4e8c3c-dcd7-46ab-ab54-59392d622ebf"
      },
      "source": [
        "for xb, yb in valid_dl:\n",
        "    print('xb.device:', xb.device)\n",
        "    print('yb:', yb)\n",
        "    break"
      ],
      "execution_count": 0,
      "outputs": [
        {
          "output_type": "stream",
          "text": [
            "xb.device: cpu\n",
            "yb: tensor([9, 1, 2, 3, 0, 0, 9, 6, 4, 0, 1, 0, 0, 0, 0, 8, 6, 2, 6, 3, 4, 9, 2, 7,\n",
            "        1, 2, 4, 0, 7, 7, 0, 2, 0, 9, 4, 1, 0, 9, 5, 4, 6, 5, 9, 6, 8, 1, 4, 2,\n",
            "        4, 1, 1, 4, 8, 8, 5, 3, 6, 7, 9, 1, 5, 9, 1, 7, 1, 6, 4, 8, 6, 2, 0, 6,\n",
            "        2, 2, 3, 9, 3, 2, 4, 1, 9, 6, 1, 6, 6, 9, 4, 5, 8, 2, 6, 0, 2, 3, 2, 0,\n",
            "        4, 7, 4, 0])\n"
          ],
          "name": "stdout"
        }
      ]
    },
    {
      "cell_type": "markdown",
      "metadata": {
        "id": "uQuD5lNEBXNb",
        "colab_type": "text"
      },
      "source": [
        "## Training the Model"
      ]
    },
    {
      "cell_type": "markdown",
      "metadata": {
        "id": "sD6kXkbYBXNb",
        "colab_type": "text"
      },
      "source": [
        "As with logistic regression, we can use cross entropy as the loss function and accuracy as the evaluation metric for our model. The training loop is also identical, so we can reuse the `loss_batch`, `evaluate` and `fit` functions from the previous tutorial. \n",
        "\n",
        "The `loss_batch` function calculates the loss and metric value for a batch of data, and optionally performs gradient descent if an optimizer is provided."
      ]
    },
    {
      "cell_type": "code",
      "metadata": {
        "id": "Khkb0mGjBXNc",
        "colab_type": "code",
        "colab": {}
      },
      "source": [
        "def loss_batch(model, loss_func, xb, yb, opt=None, metric=None):\n",
        "    # Generate predictions\n",
        "    preds = model(xb)\n",
        "    # Calculate loss\n",
        "    loss = loss_func(preds, yb)\n",
        "                     \n",
        "    if opt is not None:\n",
        "        # Compute gradients\n",
        "        loss.backward()\n",
        "        # Update parameters             \n",
        "        opt.step()\n",
        "        # Reset gradients\n",
        "        opt.zero_grad()\n",
        "    \n",
        "    metric_result = None\n",
        "    if metric is not None:\n",
        "        # Compute the metric\n",
        "        metric_result = metric(preds, yb)\n",
        "    \n",
        "    return loss.item(), len(xb), metric_result"
      ],
      "execution_count": 0,
      "outputs": []
    },
    {
      "cell_type": "markdown",
      "metadata": {
        "id": "HsbRVQOiBXNf",
        "colab_type": "text"
      },
      "source": [
        "The `evaluate` function calculates the overall loss (and a metric, if provided) for the validation set."
      ]
    },
    {
      "cell_type": "code",
      "metadata": {
        "id": "G9b0IJuDBXNi",
        "colab_type": "code",
        "colab": {}
      },
      "source": [
        "def evaluate(model, loss_fn, valid_dl, metric=None):\n",
        "    with torch.no_grad():\n",
        "        # Pass each batch through the model\n",
        "        results = [loss_batch(model, loss_fn, xb, yb, metric=metric)\n",
        "                   for xb,yb in valid_dl]\n",
        "        # Separate losses, counts and metrics\n",
        "        losses, nums, metrics = zip(*results)\n",
        "        # Total size of the dataset\n",
        "        total = np.sum(nums)\n",
        "        # Avg. loss across batches \n",
        "        avg_loss = np.sum(np.multiply(losses, nums)) / total\n",
        "        avg_metric = None\n",
        "        if metric is not None:\n",
        "            # Avg. of metric across batches\n",
        "            avg_metric = np.sum(np.multiply(metrics, nums)) / total\n",
        "    return avg_loss, total, avg_metric"
      ],
      "execution_count": 0,
      "outputs": []
    },
    {
      "cell_type": "markdown",
      "metadata": {
        "id": "fQbFUFMXBXNm",
        "colab_type": "text"
      },
      "source": [
        "The `fit` function contains the actual training loop, as defined ni the previous tutorials. We'll make a couple more enhancements to the `fit` function: \n",
        "\n",
        "* Instead of the defining the optimizer manually, we'll pass in the learning rate and create an optimizer inside the `fit` function. This will allows us to train the model with different learning rates, if required.\n",
        "\n",
        "* We'll record the validation loss and accuracy at the end of every epoch, and return the history as the output of the `fit` function.\n"
      ]
    },
    {
      "cell_type": "code",
      "metadata": {
        "id": "LzT6xsgyBXNn",
        "colab_type": "code",
        "colab": {}
      },
      "source": [
        "def fit(epochs, lr, model, loss_fn, train_dl, \n",
        "        valid_dl, metric=None, opt_fn=None):\n",
        "    losses, metrics = [], []\n",
        "    \n",
        "    # Instantiate the optimizer\n",
        "    if opt_fn is None: opt_fn = torch.optim.SGD\n",
        "    opt = torch.optim.SGD(model.parameters(), lr=lr)\n",
        "    \n",
        "    for epoch in range(epochs):\n",
        "        # Training\n",
        "        for xb,yb in train_dl:\n",
        "            loss,_,_ = loss_batch(model, loss_fn, xb, yb, opt)\n",
        "\n",
        "        # Evaluation\n",
        "        result = evaluate(model, loss_fn, valid_dl, metric)\n",
        "        val_loss, total, val_metric = result\n",
        "        \n",
        "        # Record the loss & metric\n",
        "        losses.append(val_loss)\n",
        "        metrics.append(val_metric)\n",
        "        \n",
        "        # Print progress\n",
        "        if metric is None:\n",
        "            print('Epoch [{}/{}], Loss: {:.4f}'\n",
        "                  .format(epoch+1, epochs, val_loss))\n",
        "        else:\n",
        "            print('Epoch [{}/{}], Loss: {:.4f}, {}: {:.4f}'\n",
        "                  .format(epoch+1, epochs, val_loss, \n",
        "                          metric.__name__, val_metric))\n",
        "    return losses, metrics"
      ],
      "execution_count": 0,
      "outputs": []
    },
    {
      "cell_type": "markdown",
      "metadata": {
        "id": "x4Vj4FTjBXNq",
        "colab_type": "text"
      },
      "source": [
        "We also define an `accuracy` function which calculates the overall accuracy of the model on an entire batch of outputs, so that we can use it as a metric in `fit`."
      ]
    },
    {
      "cell_type": "code",
      "metadata": {
        "id": "0ONlN3NDBXNr",
        "colab_type": "code",
        "colab": {}
      },
      "source": [
        "def accuracy(outputs, labels):\n",
        "    _, preds = torch.max(outputs, dim=1)\n",
        "    return torch.sum(preds == labels).item() / len(preds)"
      ],
      "execution_count": 0,
      "outputs": []
    },
    {
      "cell_type": "markdown",
      "metadata": {
        "id": "zr9rl69-BXNu",
        "colab_type": "text"
      },
      "source": [
        "Before we train the model, we need to ensure that the data and the model's parameters (weights and biases) are on the same device (CPU or GPU). We can reuse the `to_device` function to move the model's parameters to the right device. "
      ]
    },
    {
      "cell_type": "code",
      "metadata": {
        "id": "uEu9KWFPBXNw",
        "colab_type": "code",
        "colab": {},
        "outputId": "34041f5e-f5b9-43d4-b40c-e71153959778"
      },
      "source": [
        "# Model (on GPU)\n",
        "model = MnistModel(input_size, hidden_size=32, out_size=num_classes)\n",
        "to_device(model, device)"
      ],
      "execution_count": 0,
      "outputs": [
        {
          "output_type": "execute_result",
          "data": {
            "text/plain": [
              "MnistModel(\n",
              "  (linear1): Linear(in_features=784, out_features=32, bias=True)\n",
              "  (linear2): Linear(in_features=32, out_features=10, bias=True)\n",
              ")"
            ]
          },
          "metadata": {
            "tags": []
          },
          "execution_count": 23
        }
      ]
    },
    {
      "cell_type": "markdown",
      "metadata": {
        "id": "sVpNt5lyBXNz",
        "colab_type": "text"
      },
      "source": [
        "Let's see how the model performs on the validation set with the initial set of weights and biases."
      ]
    },
    {
      "cell_type": "code",
      "metadata": {
        "id": "Veiz8XgkBXN5",
        "colab_type": "code",
        "colab": {},
        "outputId": "b8c8d6c7-7a94-4c79-f393-2f0b0b7fbafb"
      },
      "source": [
        "val_loss, total, val_acc = evaluate(model, F.cross_entropy, \n",
        "                                    valid_dl, metric=accuracy)\n",
        "print('Loss: {:.4f}, Accuracy: {:.4f}'.format(val_loss, val_acc))"
      ],
      "execution_count": 0,
      "outputs": [
        {
          "output_type": "stream",
          "text": [
            "Loss: 2.3129, Accuracy: 0.0994\n"
          ],
          "name": "stdout"
        }
      ]
    },
    {
      "cell_type": "markdown",
      "metadata": {
        "id": "nHIJ-5U7BXOC",
        "colab_type": "text"
      },
      "source": [
        "The initial accuracy is around 10%, which is what one might expect from a randomly intialized model (since it has a 1 in 10 chance of getting a label right by guessing randomly).\n",
        "\n",
        "We are now ready to train the model. Let's train for 5 epochs and look at the results. We can use a relatively higher learning of 0.5."
      ]
    },
    {
      "cell_type": "code",
      "metadata": {
        "id": "Vx7BMX2zBXOE",
        "colab_type": "code",
        "colab": {},
        "outputId": "6d134f6f-aa77-4427-923b-559cef48179d"
      },
      "source": [
        "losses1, metrics1 = fit(5, 0.5, model, F.cross_entropy, \n",
        "                        train_dl, valid_dl, accuracy)"
      ],
      "execution_count": 0,
      "outputs": [
        {
          "output_type": "stream",
          "text": [
            "Epoch [1/5], Loss: 0.2303, accuracy: 0.9340\n",
            "Epoch [2/5], Loss: 0.1653, accuracy: 0.9525\n",
            "Epoch [3/5], Loss: 0.1430, accuracy: 0.9602\n",
            "Epoch [4/5], Loss: 0.1471, accuracy: 0.9553\n",
            "Epoch [5/5], Loss: 0.1425, accuracy: 0.9587\n"
          ],
          "name": "stdout"
        }
      ]
    },
    {
      "cell_type": "markdown",
      "metadata": {
        "id": "e93x-Ch9BXOJ",
        "colab_type": "text"
      },
      "source": [
        "95% is pretty good! Let's train the model for 5 more epochs at a lower learning rate of 0.1, to further improve the accuracy."
      ]
    },
    {
      "cell_type": "code",
      "metadata": {
        "id": "6MQS-83rBXOK",
        "colab_type": "code",
        "colab": {},
        "outputId": "011fae66-e1ce-4e1c-e8f5-336aa9a2f360"
      },
      "source": [
        "losses2, metrics2 = fit(5, 0.1, model, F.cross_entropy, \n",
        "                        train_dl, valid_dl, accuracy)"
      ],
      "execution_count": 0,
      "outputs": [
        {
          "output_type": "stream",
          "text": [
            "Epoch [1/5], Loss: 0.1191, accuracy: 0.9661\n",
            "Epoch [2/5], Loss: 0.1197, accuracy: 0.9655\n",
            "Epoch [3/5], Loss: 0.1158, accuracy: 0.9663\n",
            "Epoch [4/5], Loss: 0.1153, accuracy: 0.9664\n",
            "Epoch [5/5], Loss: 0.1153, accuracy: 0.9660\n"
          ],
          "name": "stdout"
        }
      ]
    },
    {
      "cell_type": "markdown",
      "metadata": {
        "id": "CT8IwUAUBXOP",
        "colab_type": "text"
      },
      "source": [
        "We can now plot the accuracies to study how the model improves over time."
      ]
    },
    {
      "cell_type": "code",
      "metadata": {
        "id": "gUAJurZuBXOS",
        "colab_type": "code",
        "colab": {}
      },
      "source": [
        "import matplotlib.pyplot as plt"
      ],
      "execution_count": 0,
      "outputs": []
    },
    {
      "cell_type": "code",
      "metadata": {
        "scrolled": true,
        "id": "g2ABL0jOBXOY",
        "colab_type": "code",
        "colab": {},
        "outputId": "affcde15-9ad0-4906-8048-a0b9862f19e8"
      },
      "source": [
        "# Replace these values with your results\n",
        "accuracies = [val_acc] + metrics1 + metrics2\n",
        "plt.plot(accuracies, '-x')\n",
        "plt.xlabel('epoch')\n",
        "plt.ylabel('accuracy')\n",
        "plt.title('Accuracy vs. No. of epochs');"
      ],
      "execution_count": 0,
      "outputs": [
        {
          "output_type": "display_data",
          "data": {
            "image/png": "[encoded data removed]",
            "text/plain": [
              "<Figure size 432x288 with 1 Axes>"
            ]
          },
          "metadata": {
            "tags": [],
            "needs_background": "light"
          }
        }
      ]
    },
    {
      "cell_type": "markdown",
      "metadata": {
        "id": "llRPRFf7BXOd",
        "colab_type": "text"
      },
      "source": [
        "Our current model outperforms the logistic regression model (which could only reach around 86% accuracy) by a huge margin! It quickly reaches an accuracy of 96%, but doesn't improve much beyond this. To improve the accuracy further, we need to make the model more powerful. As you can probably guess, this can be achieved by increasing the size of the hidden layer, or adding more hidden layers. I encourage you to try out both these approaches and see which one works better."
      ]
    },
    {
      "cell_type": "markdown",
      "metadata": {
        "id": "-aWfsWq1BXOe",
        "colab_type": "text"
      },
      "source": [
        "## Commit and upload the notebook\n",
        "\n",
        "As a final step, we can save and commit our work using the jovian library."
      ]
    },
    {
      "cell_type": "code",
      "metadata": {
        "id": "JoCgUGc4BXOe",
        "colab_type": "code",
        "colab": {}
      },
      "source": [
        "!pip install jovian --upgrade -q"
      ],
      "execution_count": 0,
      "outputs": []
    },
    {
      "cell_type": "code",
      "metadata": {
        "id": "vJNvsP2aBXOh",
        "colab_type": "code",
        "colab": {},
        "outputId": "500f066f-8721-47ba-e166-3042465da9b8"
      },
      "source": [
        "import jovian"
      ],
      "execution_count": 0,
      "outputs": [
        {
          "output_type": "display_data",
          "data": {
            "application/javascript": [
              "if (window.IPython && IPython.notebook.kernel) IPython.notebook.kernel.execute('jovian.utils.jupyter.get_notebook_name_saved = lambda: \"' + IPython.notebook.notebook_name + '\"')"
            ],
            "text/plain": [
              "<IPython.core.display.Javascript object>"
            ]
          },
          "metadata": {
            "tags": []
          }
        }
      ]
    },
    {
      "cell_type": "code",
      "metadata": {
        "id": "_OYfMIpMBXOl",
        "colab_type": "code",
        "colab": {},
        "outputId": "a32de216-9571-40da-afb8-e94950239cb3"
      },
      "source": [
        "jovian.commit()"
      ],
      "execution_count": 0,
      "outputs": [
        {
          "output_type": "stream",
          "text": [
            "[jovian] Saving notebook..\n"
          ],
          "name": "stdout"
        },
        {
          "output_type": "display_data",
          "data": {
            "application/javascript": [
              "window.require && require([\"base/js/namespace\"],function(Jupyter){Jupyter.notebook.save_checkpoint()})"
            ],
            "text/plain": [
              "<IPython.core.display.Javascript object>"
            ]
          },
          "metadata": {
            "tags": []
          }
        }
      ]
    },
    {
      "cell_type": "markdown",
      "metadata": {
        "id": "IGvAjvABBXOq",
        "colab_type": "text"
      },
      "source": [
        "## Summary and Further Reading\n",
        "\n",
        "Here is a summary of the topics covered in this tutorial:\n",
        "\n",
        "* We created a neural network with one hidden layer to improve upon the logistic regression model from the previous tutorial. We also used the ReLU activation function to introduce non-linearity into the model, allowing it to learn more complex relationships between the inputs (pixel densities) and outputs (class probabilities).\n",
        "\n",
        "* We defined some utilities like `get_default_device`, `to_device` and `DeviceDataLoader` to leverage a GPU if available, by moving the input data and model parameters to the appropriate device.\n",
        "\n",
        "* We were able to use the exact same training loop: the `fit` function we had define earlier to train out model and evaluate it using the validation dataset.\n",
        "\n",
        "There's a lot of scope to experiment here, and I encourage you to use the interactive nature of Jupyter to play around with the various parameters. Here are a few ideas:\n",
        "\n",
        "* Try changing the size of the hidden layer, or add more hidden layers and see if you can achieve a higher accuracy.\n",
        "\n",
        "* Try changing the batch size and learning rate to see if you can achieve the same accuracy in fewer epochs.\n",
        "\n",
        "* Compare the training times on a CPU vs. GPU. Do you see a significant difference. How does it vary with the size of the dataset and the size of the model (no. of weights and parameters)?\n",
        "\n",
        "* Try building a model for a different dataset, such as the [CIFAR10 or CIFAR100 datasets](https://www.cs.toronto.edu/~kriz/cifar.html).\n",
        "\n",
        "Here are some references for further reading:\n",
        "\n",
        "* [A visual proof that neural networks can compute any function](http://neuralnetworksanddeeplearning.com/chap4.html), also known as the Universal Approximation Theorem.\n",
        "\n",
        "* [But what *is* a neural network?](https://www.youtube.com/watch?v=aircAruvnKk) - A visual and intuitive introduction to what neural networks are and what the intermediate layers represent\n",
        "\n",
        "* [Stanford CS229 Lecture notes on Backpropagation](http://cs229.stanford.edu/notes/cs229-notes-backprop.pdf) - for a more mathematical treatment of how gradients are calculated and weights are updated for neural networks with multiple layers."
      ]
    },
    {
      "cell_type": "code",
      "metadata": {
        "id": "oK6LLeVGBXOr",
        "colab_type": "code",
        "colab": {}
      },
      "source": [
        ""
      ],
      "execution_count": 0,
      "outputs": []
    }
  ]
}